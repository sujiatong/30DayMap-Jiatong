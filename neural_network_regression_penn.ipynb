{
  "cells": [
    {
      "cell_type": "markdown",
      "metadata": {
        "id": "view-in-github",
        "colab_type": "text"
      },
      "source": [
        "<a href=\"https://colab.research.google.com/github/sujiatong/30DayMap-Jiatong/blob/main/neural_network_regression_penn.ipynb\" target=\"_parent\"><img src=\"https://colab.research.google.com/assets/colab-badge.svg\" alt=\"Open In Colab\"/></a>"
      ]
    },
    {
      "cell_type": "markdown",
      "metadata": {
        "id": "EFpgp_rIA_TY"
      },
      "source": [
        "## Building a Regression Model in PyTorch\n",
        "\n",
        "In this tutorial, we are going to build our very own neural network for simple tasks. PyTorch library is for deep learning. Some applications of deep learning models are to solve regression or classification problems.\n",
        "In this post, you will discover how to use PyTorch to develop and evaluate neural network models for regression problems.\n",
        "\n",
        "After completing this post, you will know:\n",
        "\n",
        "* How to load data from scikit-learn and adapt it for PyTorch models\n",
        "* How to create a neural network for regerssion problem using PyTorch\n",
        "* How to improve model performance with data preparation techniques\n",
        "\n",
        "Ref: https://machinelearningmastery.com/building-a-regression-model-in-pytorch/"
      ]
    },
    {
      "cell_type": "code",
      "source": [],
      "metadata": {
        "id": "E7M_UG7uqIB6"
      },
      "execution_count": null,
      "outputs": []
    },
    {
      "cell_type": "code",
      "source": [
        "import torch\n",
        "from torch import nn\n",
        "from torch.nn import functional as F\n",
        "import torch.utils.data as Data\n",
        "from torch import optim\n",
        "from sklearn import datasets\n",
        "from sklearn.preprocessing import StandardScaler\n",
        "from sklearn.preprocessing import MinMaxScaler\n",
        "from sklearn.metrics import mean_absolute_error\n",
        "from sklearn.metrics import mean_squared_error\n",
        "from sklearn.metrics import r2_score\n",
        "from sklearn.model_selection import train_test_split\n",
        "import numpy as np\n",
        "import pandas as pd\n",
        "import seaborn as sns\n",
        "import tqdm\n",
        "from matplotlib import pyplot as plt"
      ],
      "metadata": {
        "id": "27Vxb5d1qH-y"
      },
      "execution_count": null,
      "outputs": []
    },
    {
      "cell_type": "markdown",
      "source": [
        "This is a dataset that describes the median house value for California districts. Each data sample is a census block group. The target variable is the median house value in USD 100,000 in 1990 and there are 8 input features, each describing something about the house. They are, namely,\n",
        "\n",
        "\n",
        "* MedInc: median income in block group\n",
        "* HouseAge: median house age in block group\n",
        "* AveRooms: average number of rooms per household\n",
        "* AveBedrms: average number of bedrooms per household\n",
        "* Population: block group population\n",
        "* AveOccup: average number of household members\n",
        "* Latitude: block group centroid latitude\n",
        "* Longitude: block group centroid longitude"
      ],
      "metadata": {
        "id": "LbUUmZbE1kP0"
      }
    },
    {
      "cell_type": "markdown",
      "source": [
        "We can easily download the data from `scikit`"
      ],
      "metadata": {
        "id": "HvfloiM-15hY"
      }
    },
    {
      "cell_type": "code",
      "source": [
        "from sklearn.datasets import fetch_california_housing\n",
        "\n",
        "data = fetch_california_housing()\n",
        "print(data.feature_names)\n",
        "\n",
        "X, y = data.data, data.target\n"
      ],
      "metadata": {
        "colab": {
          "base_uri": "https://localhost:8080/"
        },
        "id": "TlxJ19UhqH8R",
        "outputId": "4cd2d949-977a-477d-fee4-89bef680f9ff"
      },
      "execution_count": null,
      "outputs": [
        {
          "output_type": "stream",
          "name": "stdout",
          "text": [
            "['MedInc', 'HouseAge', 'AveRooms', 'AveBedrms', 'Population', 'AveOccup', 'Latitude', 'Longitude']\n"
          ]
        }
      ]
    },
    {
      "cell_type": "code",
      "source": [
        "import geopandas as gpd"
      ],
      "metadata": {
        "id": "m71QTR4io04i"
      },
      "execution_count": null,
      "outputs": []
    },
    {
      "cell_type": "markdown",
      "source": [
        "#### Visualize the data"
      ],
      "metadata": {
        "id": "8JBcxBj92EoQ"
      }
    },
    {
      "cell_type": "code",
      "source": [
        "import geopandas as gpd\n",
        "import pandas as pd\n",
        "from shapely.geometry import Point\n",
        "\n",
        "# Assuming X_train_raw contains latitude and longitude columns\n",
        "# Replace 'latitude_column_index' and 'longitude_column_index' with the actual column indices\n",
        "latitude_column_index = 6  # Replace with the index of your latitude column in X_train_raw\n",
        "longitude_column_index = 7 # Replace with the index of your longitude column in X_train_raw\n",
        "\n",
        "# Create a GeoDataFrame\n",
        "geometry = [Point(xy) for xy in zip(X[:, longitude_column_index], X[:, latitude_column_index])]\n",
        "gdf = gpd.GeoDataFrame(pd.DataFrame(X), geometry=geometry, crs=\"EPSG:4326\")  # Assuming WGS 84 CRS\n",
        "\n",
        "# Rename columns for easier access\n",
        "gdf.columns = ['MedInc', 'HouseAge', 'AveRooms', 'AveBedrms', 'Population', 'AveOccup', 'Latitude', 'Longitude', 'geometry']\n",
        "\n",
        "# Plot the data\n",
        "# Plot the data with color based on MedInc and small dot size\n",
        "gdf.plot(column='MedInc',  # Color points based on the 'MedInc' column\n",
        "         cmap='viridis',   # Use the 'viridis' colormap (you can change this)\n",
        "         markersize=1,      # Set the marker size to 2 (adjust as needed)\n",
        "         legend=True,       # Display a legend\n",
        "         figsize=(10, 6))   # Adjust figure size if necessary\n"
      ],
      "metadata": {
        "colab": {
          "base_uri": "https://localhost:8080/",
          "height": 539
        },
        "id": "BnTkwDJ60xrS",
        "outputId": "f14ce170-55ea-4a92-b338-31037bbd9e62"
      },
      "execution_count": null,
      "outputs": [
        {
          "output_type": "execute_result",
          "data": {
            "text/plain": [
              "<Axes: >"
            ]
          },
          "metadata": {},
          "execution_count": 4
        },
        {
          "output_type": "display_data",
          "data": {
            "text/plain": [
              "<Figure size 1000x600 with 2 Axes>"
            ],
            "image/png": "[encoded data removed]"
          },
          "metadata": {}
        }
      ]
    },
    {
      "cell_type": "code",
      "source": [],
      "metadata": {
        "id": "zhYPR9dn0xoW"
      },
      "execution_count": null,
      "outputs": []
    },
    {
      "cell_type": "markdown",
      "source": [
        "This is a regression problem. Unlike classification problems, the output variable is a continuous value. In case of neural networks, you usually use linear activation at the output layer (i.e., no activation) such that the output range theoretically can be anything from negative infinty to positive infinity.\n",
        "\n",
        "Also for regression problems, you should never expect the model to predict the values perfectly. Therefore, you should care about how close the prediction is to the actual value. The loss metric that you can use for this is the mean square error (MSE) or mean absolute error (MAE). But you may also interested in the root mean squared error (RMSE) because that’s a metric in the same unit as your output variable.\n",
        "\n",
        "Let’s try the traditional design of a neural network, namely, the pyramid structure. A pyramid structure is to have the number of neurons in each layer decreasing as the network progresses to the output. The number of input features is fixed, but you set a large number of neurons on the first hidden layer and gradually reduce the number in the subsequent layers. Because you have only one target in this dataset, the final layer should output only one value."
      ],
      "metadata": {
        "id": "eSoADnTj2RZV"
      }
    },
    {
      "cell_type": "code",
      "source": [
        "import torch.nn as nn\n",
        "\n",
        "# Define the model\n",
        "model = nn.Sequential(\n",
        "    nn.Linear(8, 24),\n",
        "    nn.ReLU(),\n",
        "    nn.Linear(24, 12),\n",
        "    nn.ReLU(),\n",
        "    nn.Linear(12, 6),\n",
        "    nn.ReLU(),\n",
        "    nn.Linear(6, 1)\n",
        ")"
      ],
      "metadata": {
        "id": "T7SvA96xwbOi"
      },
      "execution_count": null,
      "outputs": []
    },
    {
      "cell_type": "code",
      "source": [],
      "metadata": {
        "id": "laQ4nNrZwbK8"
      },
      "execution_count": null,
      "outputs": []
    },
    {
      "cell_type": "markdown",
      "source": [
        "To train this network, you need to define a loss function. MSE is a reasonable choice. You also need an optimizer, such as Adam."
      ],
      "metadata": {
        "id": "F9W0vq8c2V_6"
      }
    },
    {
      "cell_type": "code",
      "source": [
        "\n",
        "import torch.nn as nn\n",
        "import torch.optim as optim\n",
        "\n",
        "# loss function and optimizer\n",
        "loss_fn = nn.MSELoss()  # mean square error\n",
        "optimizer = optim.Adam(model.parameters(), lr=0.0001)\n"
      ],
      "metadata": {
        "id": "CDh7SwWqwbIF"
      },
      "execution_count": null,
      "outputs": []
    },
    {
      "cell_type": "markdown",
      "source": [
        "#### Split the dataset into trainning and testing\n",
        "To train this model, you can use your usual training loop. In order to obtain an evaluation score so you are confident that the model works, you need to split the data into training and test sets. You may also want to avoid overfitting by keeping track on the test set MSE. The following is the training loop with the train-test split:"
      ],
      "metadata": {
        "id": "jt04nQic2ZsC"
      }
    },
    {
      "cell_type": "code",
      "source": [
        "import copy\n",
        "import numpy as np\n",
        "import torch\n",
        "import tqdm\n",
        "from sklearn.model_selection import train_test_split\n",
        "\n",
        "# train-test split of the dataset\n",
        "X_train, X_test, y_train, y_test = train_test_split(X, y, train_size=0.7, shuffle=True)\n",
        "X_train = torch.tensor(X_train, dtype=torch.float32)\n",
        "y_train = torch.tensor(y_train, dtype=torch.float32).reshape(-1, 1)\n",
        "X_test = torch.tensor(X_test, dtype=torch.float32)\n",
        "y_test = torch.tensor(y_test, dtype=torch.float32).reshape(-1, 1)\n",
        "\n",
        "# training parameters\n",
        "n_epochs = 100   # number of epochs to run\n",
        "batch_size = 10  # size of each batch\n",
        "batch_start = torch.arange(0, len(X_train), batch_size)\n",
        "\n",
        "# Hold the best model\n",
        "best_mse = np.inf   # init to infinity\n",
        "best_weights = None\n",
        "history = []"
      ],
      "metadata": {
        "id": "G-8geHJgwbCb"
      },
      "execution_count": null,
      "outputs": []
    },
    {
      "cell_type": "markdown",
      "source": [
        "#### Prepare the GPU device on CoLab"
      ],
      "metadata": {
        "id": "vqilplsK2e0x"
      }
    },
    {
      "cell_type": "code",
      "source": [
        "# Check is GPU is enabled\n",
        "device = torch.device(\"cuda:0\" if torch.cuda.is_available() else \"cpu\")\n",
        "print(\"Device: {}\".format(device))\n",
        "\n",
        "# Get specific GPU model\n",
        "if str(device) == \"cuda:0\":\n",
        "  print(\"GPU: {}\".format(torch.cuda.get_device_name(0)))"
      ],
      "metadata": {
        "colab": {
          "base_uri": "https://localhost:8080/"
        },
        "id": "D0kktkRBxZjj",
        "outputId": "dc2f5e29-c905-4ffb-dab0-8e0249521bf2"
      },
      "execution_count": null,
      "outputs": [
        {
          "output_type": "stream",
          "name": "stdout",
          "text": [
            "Device: cuda:0\n",
            "GPU: Tesla T4\n"
          ]
        }
      ]
    },
    {
      "cell_type": "code",
      "source": [
        "batch_start"
      ],
      "metadata": {
        "colab": {
          "base_uri": "https://localhost:8080/"
        },
        "id": "Krps_fzKyIcG",
        "outputId": "f6d1f900-b01d-481b-b1cf-71d9ead1af84"
      },
      "execution_count": null,
      "outputs": [
        {
          "output_type": "execute_result",
          "data": {
            "text/plain": [
              "tensor([    0,    10,    20,  ..., 14420, 14430, 14440])"
            ]
          },
          "metadata": {},
          "execution_count": 10
        }
      ]
    },
    {
      "cell_type": "markdown",
      "source": [
        "#### Start training"
      ],
      "metadata": {
        "id": "vjlIOaWEqPx0"
      }
    },
    {
      "cell_type": "code",
      "source": [
        "import copy\n",
        "import torch\n",
        "import tqdm\n",
        "\n",
        "\n",
        "model.to(device)\n",
        "\n",
        "# Move training and test data to the same device at the beginning\n",
        "X_train, y_train = X_train.to(device), y_train.to(device)\n",
        "X_test, y_test = X_test.to(device), y_test.to(device)\n",
        "\n",
        "# Training loop\n",
        "for epoch in range(n_epochs):\n",
        "    model.train()\n",
        "    with tqdm.tqdm(batch_start, unit=\"batch\", mininterval=0, disable=False) as bar:\n",
        "        bar.set_description(f\"Epoch {epoch}\")\n",
        "\n",
        "        for start in bar:\n",
        "            # Take a batch\n",
        "            X_batch = X_train[start:start+batch_size].to(device)  # Move batch to device\n",
        "            y_batch = y_train[start:start+batch_size].to(device)  # Move batch to device\n",
        "\n",
        "            # Forward pass\n",
        "            y_pred = model(X_batch)\n",
        "            loss = loss_fn(y_pred, y_batch)\n",
        "\n",
        "            # Backward pass\n",
        "            optimizer.zero_grad()\n",
        "            loss.backward()\n",
        "            optimizer.step()\n",
        "\n",
        "            # Print progress\n",
        "            bar.set_postfix(mse=float(loss))\n",
        "\n",
        "    # Evaluate accuracy at the end of each epoch\n",
        "    model.eval()\n",
        "\n",
        "    with torch.no_grad():  # No gradients needed during evaluation\n",
        "        y_pred = model(X_test)  # X_test is already on the device\n",
        "        mse = loss_fn(y_pred, y_test)  # y_test is already on the device\n",
        "        mse = float(mse)\n",
        "\n",
        "    history.append(mse)\n",
        "\n",
        "    # Save best weights\n",
        "    if mse < best_mse:\n",
        "        best_mse = mse\n",
        "        best_weights = copy.deepcopy(model.state_dict())\n",
        "\n",
        "# Restore model and return best accuracy\n",
        "model.load_state_dict(best_weights)"
      ],
      "metadata": {
        "colab": {
          "base_uri": "https://localhost:8080/"
        },
        "id": "AC04Ue8YwjON",
        "outputId": "bd3834e6-6aec-469e-b50c-bc67ea9b1da9"
      },
      "execution_count": null,
      "outputs": [
        {
          "output_type": "stream",
          "name": "stderr",
          "text": [
            "Epoch 0: 100%|██████████| 1445/1445 [00:07<00:00, 181.78batch/s, mse=0.896]\n",
            "Epoch 1: 100%|██████████| 1445/1445 [00:10<00:00, 133.43batch/s, mse=0.993]\n",
            "Epoch 2: 100%|██████████| 1445/1445 [00:07<00:00, 202.38batch/s, mse=1.07]\n",
            "Epoch 3: 100%|██████████| 1445/1445 [00:06<00:00, 217.28batch/s, mse=1.09]\n",
            "Epoch 4: 100%|██████████| 1445/1445 [00:07<00:00, 200.31batch/s, mse=1.16]\n",
            "Epoch 5: 100%|██████████| 1445/1445 [00:06<00:00, 213.85batch/s, mse=1.1]\n",
            "Epoch 6: 100%|██████████| 1445/1445 [00:09<00:00, 156.41batch/s, mse=1.05]\n",
            "Epoch 7: 100%|██████████| 1445/1445 [00:06<00:00, 216.70batch/s, mse=1.01]\n",
            "Epoch 8: 100%|██████████| 1445/1445 [00:07<00:00, 193.77batch/s, mse=0.965]\n",
            "Epoch 9: 100%|██████████| 1445/1445 [00:06<00:00, 215.78batch/s, mse=0.856]\n",
            "Epoch 10: 100%|██████████| 1445/1445 [00:07<00:00, 200.04batch/s, mse=0.804]\n",
            "Epoch 11: 100%|██████████| 1445/1445 [00:06<00:00, 214.56batch/s, mse=0.742]\n",
            "Epoch 12: 100%|██████████| 1445/1445 [00:08<00:00, 179.72batch/s, mse=0.69]\n",
            "Epoch 13: 100%|██████████| 1445/1445 [00:06<00:00, 210.92batch/s, mse=0.651]\n",
            "Epoch 14: 100%|██████████| 1445/1445 [00:07<00:00, 200.24batch/s, mse=0.624]\n",
            "Epoch 15: 100%|██████████| 1445/1445 [00:07<00:00, 205.91batch/s, mse=0.611]\n",
            "Epoch 16: 100%|██████████| 1445/1445 [00:06<00:00, 210.61batch/s, mse=0.604]\n",
            "Epoch 17: 100%|██████████| 1445/1445 [00:07<00:00, 197.99batch/s, mse=0.607]\n",
            "Epoch 18: 100%|██████████| 1445/1445 [00:06<00:00, 212.29batch/s, mse=0.611]\n",
            "Epoch 19: 100%|██████████| 1445/1445 [00:07<00:00, 193.81batch/s, mse=0.608]\n",
            "Epoch 20: 100%|██████████| 1445/1445 [00:06<00:00, 211.11batch/s, mse=0.609]\n",
            "Epoch 21: 100%|██████████| 1445/1445 [00:07<00:00, 188.35batch/s, mse=0.611]\n",
            "Epoch 22: 100%|██████████| 1445/1445 [00:06<00:00, 210.98batch/s, mse=0.61]\n",
            "Epoch 23: 100%|██████████| 1445/1445 [00:07<00:00, 186.96batch/s, mse=0.611]\n",
            "Epoch 24: 100%|██████████| 1445/1445 [00:06<00:00, 208.63batch/s, mse=0.617]\n",
            "Epoch 25: 100%|██████████| 1445/1445 [00:06<00:00, 216.93batch/s, mse=0.62]\n",
            "Epoch 26: 100%|██████████| 1445/1445 [00:07<00:00, 196.52batch/s, mse=0.622]\n",
            "Epoch 27: 100%|██████████| 1445/1445 [00:07<00:00, 201.04batch/s, mse=0.626]\n",
            "Epoch 28: 100%|██████████| 1445/1445 [00:07<00:00, 195.05batch/s, mse=0.631]\n",
            "Epoch 29: 100%|██████████| 1445/1445 [00:07<00:00, 203.31batch/s, mse=0.634]\n",
            "Epoch 30: 100%|██████████| 1445/1445 [00:08<00:00, 163.16batch/s, mse=0.634]\n",
            "Epoch 31: 100%|██████████| 1445/1445 [00:06<00:00, 215.88batch/s, mse=0.638]\n",
            "Epoch 32: 100%|██████████| 1445/1445 [00:07<00:00, 183.53batch/s, mse=0.638]\n",
            "Epoch 33: 100%|██████████| 1445/1445 [00:06<00:00, 210.76batch/s, mse=0.64]\n",
            "Epoch 34: 100%|██████████| 1445/1445 [00:07<00:00, 205.89batch/s, mse=0.641]\n",
            "Epoch 35: 100%|██████████| 1445/1445 [00:07<00:00, 190.22batch/s, mse=0.644]\n",
            "Epoch 36: 100%|██████████| 1445/1445 [00:07<00:00, 181.23batch/s, mse=0.648]\n",
            "Epoch 37: 100%|██████████| 1445/1445 [00:06<00:00, 210.54batch/s, mse=0.652]\n",
            "Epoch 38: 100%|██████████| 1445/1445 [00:07<00:00, 188.28batch/s, mse=0.656]\n",
            "Epoch 39: 100%|██████████| 1445/1445 [00:07<00:00, 200.50batch/s, mse=0.658]\n",
            "Epoch 40: 100%|██████████| 1445/1445 [00:07<00:00, 196.28batch/s, mse=0.66]\n",
            "Epoch 41: 100%|██████████| 1445/1445 [00:07<00:00, 192.37batch/s, mse=0.666]\n",
            "Epoch 42: 100%|██████████| 1445/1445 [00:07<00:00, 193.95batch/s, mse=0.672]\n",
            "Epoch 43: 100%|██████████| 1445/1445 [00:07<00:00, 185.04batch/s, mse=0.679]\n",
            "Epoch 44: 100%|██████████| 1445/1445 [00:06<00:00, 214.85batch/s, mse=0.685]\n",
            "Epoch 45: 100%|██████████| 1445/1445 [00:07<00:00, 187.20batch/s, mse=0.691]\n",
            "Epoch 46: 100%|██████████| 1445/1445 [00:07<00:00, 202.92batch/s, mse=0.7]\n",
            "Epoch 47: 100%|██████████| 1445/1445 [00:07<00:00, 181.65batch/s, mse=0.703]\n",
            "Epoch 48: 100%|██████████| 1445/1445 [00:06<00:00, 231.78batch/s, mse=0.713]\n",
            "Epoch 49: 100%|██████████| 1445/1445 [00:07<00:00, 198.35batch/s, mse=0.715]\n",
            "Epoch 50: 100%|██████████| 1445/1445 [00:09<00:00, 159.63batch/s, mse=0.72]\n",
            "Epoch 51: 100%|██████████| 1445/1445 [00:12<00:00, 117.91batch/s, mse=0.724]\n",
            "Epoch 52: 100%|██████████| 1445/1445 [00:09<00:00, 155.48batch/s, mse=0.727]\n",
            "Epoch 53: 100%|██████████| 1445/1445 [00:08<00:00, 173.02batch/s, mse=0.737]\n",
            "Epoch 54: 100%|██████████| 1445/1445 [00:07<00:00, 181.75batch/s, mse=0.738]\n",
            "Epoch 55: 100%|██████████| 1445/1445 [00:08<00:00, 163.79batch/s, mse=0.741]\n",
            "Epoch 56: 100%|██████████| 1445/1445 [00:08<00:00, 179.37batch/s, mse=0.744]\n",
            "Epoch 57: 100%|██████████| 1445/1445 [00:08<00:00, 167.28batch/s, mse=0.749]\n",
            "Epoch 58: 100%|██████████| 1445/1445 [00:08<00:00, 168.65batch/s, mse=0.752]\n",
            "Epoch 59: 100%|██████████| 1445/1445 [00:08<00:00, 166.92batch/s, mse=0.763]\n",
            "Epoch 60: 100%|██████████| 1445/1445 [00:07<00:00, 185.83batch/s, mse=0.763]\n",
            "Epoch 61: 100%|██████████| 1445/1445 [00:09<00:00, 159.09batch/s, mse=0.763]\n",
            "Epoch 62: 100%|██████████| 1445/1445 [00:07<00:00, 186.70batch/s, mse=0.772]\n",
            "Epoch 63: 100%|██████████| 1445/1445 [00:08<00:00, 171.31batch/s, mse=0.772]\n",
            "Epoch 64: 100%|██████████| 1445/1445 [00:08<00:00, 166.49batch/s, mse=0.783]\n",
            "Epoch 65: 100%|██████████| 1445/1445 [00:07<00:00, 188.20batch/s, mse=0.784]\n",
            "Epoch 66: 100%|██████████| 1445/1445 [00:07<00:00, 197.57batch/s, mse=0.792]\n",
            "Epoch 67: 100%|██████████| 1445/1445 [00:07<00:00, 193.89batch/s, mse=0.795]\n",
            "Epoch 68: 100%|██████████| 1445/1445 [00:08<00:00, 179.75batch/s, mse=0.801]\n",
            "Epoch 69: 100%|██████████| 1445/1445 [00:07<00:00, 204.31batch/s, mse=0.806]\n",
            "Epoch 70: 100%|██████████| 1445/1445 [00:07<00:00, 195.46batch/s, mse=0.808]\n",
            "Epoch 71: 100%|██████████| 1445/1445 [00:07<00:00, 181.88batch/s, mse=0.825]\n",
            "Epoch 72: 100%|██████████| 1445/1445 [00:09<00:00, 154.47batch/s, mse=0.838]\n",
            "Epoch 73: 100%|██████████| 1445/1445 [00:08<00:00, 170.06batch/s, mse=0.847]\n",
            "Epoch 74: 100%|██████████| 1445/1445 [00:08<00:00, 176.73batch/s, mse=0.858]\n",
            "Epoch 75:   7%|▋         | 94/1445 [00:00<00:06, 197.08batch/s, mse=0.214]"
          ]
        }
      ]
    },
    {
      "cell_type": "code",
      "source": [],
      "metadata": {
        "id": "4bB_JC-F0qld"
      },
      "execution_count": null,
      "outputs": []
    },
    {
      "cell_type": "markdown",
      "source": [
        "In the training loop, tqdm is used to set up a progress bar and in each iteration step, MSE is calculated and reported. You can see how the MSE changed by setting the tqdm parameter disable above to False.\n",
        "\n",
        "Note that in the training loop, each epoch is to run the forward and backward steps with the training set a few times to optimize the model weights, and at the end of the epoch, the model is evaluated using the test set. It is the MSE from the test set that is remembered in the list history. It is also the metric to evaluate a model, which the best one is stored in the variable best_weights.\n",
        "\n",
        "After you run this, you will have the best model restored and the best MSE stored in the variable best_mse. Note that the mean square error is the average of the square of the difference between the predicted value and the actual value. The square root of it, RMSE, can be regarded as the average difference and it is numerically more useful.\n",
        "\n",
        "In below, you can show the MSE and RMSE, and plot the history of MSE. It should be decreasing with the epochs."
      ],
      "metadata": {
        "id": "5wXxeqXk2txh"
      }
    },
    {
      "cell_type": "code",
      "source": [],
      "metadata": {
        "id": "wH1UOheS0qiZ"
      },
      "execution_count": null,
      "outputs": []
    },
    {
      "cell_type": "code",
      "source": [
        "print(\"MSE: %.2f\" % best_mse)\n",
        "print(\"RMSE: %.2f\" % np.sqrt(best_mse))\n",
        "plt.plot(history)\n",
        "plt.show()"
      ],
      "metadata": {
        "colab": {
          "base_uri": "https://localhost:8080/",
          "height": 465
        },
        "id": "RmwfmLqS0qfk",
        "outputId": "f9bfba92-6547-4cde-9837-24ba4d3ad6dd"
      },
      "execution_count": null,
      "outputs": [
        {
          "output_type": "stream",
          "name": "stdout",
          "text": [
            "MSE: 0.56\n",
            "RMSE: 0.75\n"
          ]
        },
        {
          "output_type": "display_data",
          "data": {
            "text/plain": [
              "<Figure size 640x480 with 1 Axes>"
            ],
            "image/png": "[encoded data removed]"
          },
          "metadata": {}
        }
      ]
    },
    {
      "cell_type": "code",
      "source": [],
      "metadata": {
        "id": "Ilyv2aLT0qcv"
      },
      "execution_count": null,
      "outputs": []
    },
    {
      "cell_type": "code",
      "source": [],
      "metadata": {
        "id": "T6Lt8Vc70qZ1"
      },
      "execution_count": null,
      "outputs": []
    },
    {
      "cell_type": "markdown",
      "source": [
        "Improving the Model with Preprocessing\n",
        "In the above, you see the RMSE is 0.68. Indeed, it is easy to improve the RMSE by polishing the data before training. The problem of this dataset is the diversity of the features: Some are with a narrow range and some are wide. And some are small but positive while some are very negative. This indeed is not very nice to most of the machine learning model.\n",
        "\n",
        "One way to improve this is to apply a standard scaler. It is to convert each feature into their standard score. In other words, for each feature\n",
        ", you replace it with\n",
        "\n",
        " ![image.png](data:image/png;base64,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)\n",
        "\n",
        "Where\n",
        " is the mean of\n",
        " and\n",
        " is the standard deviation. This way, every transformed feature is centered around 0 and in a narrow range that around 70% of the samples are between -1 to +1. This can help the machine learning model to converge.\n",
        "\n",
        "You can apply the standard scaler from scikit-learn. The following is how you should modify the data preparation part of the above code:"
      ],
      "metadata": {
        "id": "5qxMEx2x3LGa"
      }
    },
    {
      "cell_type": "code",
      "source": [],
      "metadata": {
        "id": "R6iawNf60qW3"
      },
      "execution_count": null,
      "outputs": []
    },
    {
      "cell_type": "code",
      "source": [
        "import torch\n",
        "from sklearn.model_selection import train_test_split\n",
        "from sklearn.datasets import fetch_california_housing\n",
        "from sklearn.preprocessing import StandardScaler\n",
        "\n",
        "# Read data\n",
        "data = fetch_california_housing()\n",
        "X, y = data.data, data.target\n",
        "\n",
        "# train-test split for model evaluation\n",
        "X_train_raw, X_test_raw, y_train, y_test = train_test_split(X, y, train_size=0.7, shuffle=True)\n",
        "\n",
        "# Standardizing data\n",
        "scaler = StandardScaler()\n",
        "scaler.fit(X_train_raw)\n",
        "X_train = scaler.transform(X_train_raw)\n",
        "X_test = scaler.transform(X_test_raw)\n",
        "\n",
        "# Convert to 2D PyTorch tensors\n",
        "X_train = torch.tensor(X_train, dtype=torch.float32)\n",
        "y_train = torch.tensor(y_train, dtype=torch.float32).reshape(-1, 1)\n",
        "X_test = torch.tensor(X_test, dtype=torch.float32)\n",
        "y_test = torch.tensor(y_test, dtype=torch.float32).reshape(-1, 1)"
      ],
      "metadata": {
        "id": "1cBrGIq10qTv"
      },
      "execution_count": null,
      "outputs": []
    },
    {
      "cell_type": "code",
      "source": [],
      "metadata": {
        "id": "46JSzNvO3iET"
      },
      "execution_count": null,
      "outputs": []
    },
    {
      "cell_type": "code",
      "source": [
        "import copy\n",
        "import torch\n",
        "import tqdm\n",
        "\n",
        "device = torch.device(\"cuda\" if torch.cuda.is_available() else \"cpu\")\n",
        "\n",
        "model.to(device)\n",
        "\n",
        "# Move training and test data to the same device at the beginning\n",
        "X_train, y_train = X_train.to(device), y_train.to(device)\n",
        "X_test, y_test = X_test.to(device), y_test.to(device)\n",
        "\n",
        "\n",
        "n_epochs = 20\n",
        "\n",
        "# Training loop\n",
        "for epoch in range(n_epochs):\n",
        "    model.train()\n",
        "    with tqdm.tqdm(batch_start, unit=\"batch\", mininterval=0, disable=False) as bar:\n",
        "        bar.set_description(f\"Epoch {epoch}\")\n",
        "\n",
        "        for start in bar:\n",
        "            # Take a batch\n",
        "            X_batch = X_train[start:start+batch_size].to(device)  # Move batch to device\n",
        "            y_batch = y_train[start:start+batch_size].to(device)  # Move batch to device\n",
        "\n",
        "            # Forward pass\n",
        "            y_pred = model(X_batch)\n",
        "            loss = loss_fn(y_pred, y_batch)\n",
        "\n",
        "            # Backward pass\n",
        "            optimizer.zero_grad()\n",
        "            loss.backward()\n",
        "            optimizer.step()\n",
        "\n",
        "            # Print progress\n",
        "            bar.set_postfix(mse=float(loss))\n",
        "\n",
        "    # Evaluate accuracy at the end of each epoch\n",
        "    model.eval()\n",
        "\n",
        "    with torch.no_grad():  # No gradients needed during evaluation\n",
        "        y_pred = model(X_test)  # X_test is already on the device\n",
        "        mse = loss_fn(y_pred, y_test)  # y_test is already on the device\n",
        "        mse = float(mse)\n",
        "\n",
        "    history.append(mse)\n",
        "\n",
        "    # Save best weights\n",
        "    if mse < best_mse:\n",
        "        best_mse = mse\n",
        "        best_weights = copy.deepcopy(model.state_dict())\n",
        "\n",
        "# Restore model and return best accuracy\n",
        "model.load_state_dict(best_weights)"
      ],
      "metadata": {
        "colab": {
          "base_uri": "https://localhost:8080/"
        },
        "id": "qbwgnByd3iBk",
        "outputId": "2fdf3a0f-6f5c-4b90-bbb6-3a921a2557ff"
      },
      "execution_count": null,
      "outputs": [
        {
          "output_type": "stream",
          "name": "stderr",
          "text": [
            "Epoch 0: 100%|██████████| 1445/1445 [00:06<00:00, 210.95batch/s, mse=0.365]\n",
            "Epoch 1: 100%|██████████| 1445/1445 [00:06<00:00, 224.54batch/s, mse=0.349]\n",
            "Epoch 2: 100%|██████████| 1445/1445 [00:06<00:00, 213.61batch/s, mse=0.333]\n",
            "Epoch 3: 100%|██████████| 1445/1445 [00:06<00:00, 219.45batch/s, mse=0.323]\n",
            "Epoch 4: 100%|██████████| 1445/1445 [00:08<00:00, 176.57batch/s, mse=0.324]\n",
            "Epoch 5: 100%|██████████| 1445/1445 [00:10<00:00, 135.55batch/s, mse=0.327]\n",
            "Epoch 6: 100%|██████████| 1445/1445 [00:07<00:00, 192.78batch/s, mse=0.337]\n",
            "Epoch 7: 100%|██████████| 1445/1445 [00:08<00:00, 174.64batch/s, mse=0.341]\n",
            "Epoch 8: 100%|██████████| 1445/1445 [00:07<00:00, 201.68batch/s, mse=0.342]\n",
            "Epoch 9: 100%|██████████| 1445/1445 [00:08<00:00, 179.76batch/s, mse=0.332]\n",
            "Epoch 10: 100%|██████████| 1445/1445 [00:07<00:00, 182.83batch/s, mse=0.324]\n",
            "Epoch 11: 100%|██████████| 1445/1445 [00:07<00:00, 192.20batch/s, mse=0.322]\n",
            "Epoch 12: 100%|██████████| 1445/1445 [00:07<00:00, 205.36batch/s, mse=0.319]\n",
            "Epoch 13: 100%|██████████| 1445/1445 [00:06<00:00, 220.26batch/s, mse=0.318]\n",
            "Epoch 14: 100%|██████████| 1445/1445 [00:08<00:00, 172.95batch/s, mse=0.312]\n",
            "Epoch 15: 100%|██████████| 1445/1445 [00:07<00:00, 184.57batch/s, mse=0.308]\n",
            "Epoch 16: 100%|██████████| 1445/1445 [00:07<00:00, 185.94batch/s, mse=0.303]\n",
            "Epoch 17: 100%|██████████| 1445/1445 [00:08<00:00, 174.64batch/s, mse=0.299]\n",
            "Epoch 18: 100%|██████████| 1445/1445 [00:13<00:00, 110.18batch/s, mse=0.295]\n",
            "Epoch 19: 100%|██████████| 1445/1445 [00:11<00:00, 122.80batch/s, mse=0.291]\n"
          ]
        },
        {
          "output_type": "execute_result",
          "data": {
            "text/plain": [
              "<All keys matched successfully>"
            ]
          },
          "metadata": {},
          "execution_count": 11
        }
      ]
    },
    {
      "cell_type": "code",
      "source": [],
      "metadata": {
        "id": "1ytvJ-a73h-0"
      },
      "execution_count": null,
      "outputs": []
    },
    {
      "cell_type": "code",
      "source": [
        "print(\"MSE: %.2f\" % best_mse)\n",
        "print(\"RMSE: %.2f\" % np.sqrt(best_mse))\n",
        "plt.plot(history)\n",
        "plt.show()"
      ],
      "metadata": {
        "colab": {
          "base_uri": "https://localhost:8080/",
          "height": 465
        },
        "id": "9AGNG_CG3h7-",
        "outputId": "c363a66a-a654-40c5-9c96-215cadff1c36"
      },
      "execution_count": null,
      "outputs": [
        {
          "output_type": "stream",
          "name": "stdout",
          "text": [
            "MSE: 0.42\n",
            "RMSE: 0.65\n"
          ]
        },
        {
          "output_type": "display_data",
          "data": {
            "text/plain": [
              "<Figure size 640x480 with 1 Axes>"
            ],
            "image/png": "[encoded data removed]"
          },
          "metadata": {}
        }
      ]
    },
    {
      "cell_type": "code",
      "source": [],
      "metadata": {
        "id": "kCyeFHdw376I"
      },
      "execution_count": null,
      "outputs": []
    },
    {
      "cell_type": "markdown",
      "source": [
        "However, you need to be careful at the end: When you use the trained model and apply to new data, you should apply the scaler to the input data before feed into the mode. That is, inference should be done as follows:\n"
      ],
      "metadata": {
        "id": "hm81QVEv3z24"
      }
    },
    {
      "cell_type": "code",
      "source": [
        "model.eval()\n",
        "\n",
        "with torch.no_grad():\n",
        "    # Test out inference with 5 samples from the original test set\n",
        "    for i in range(5):\n",
        "        X_sample = X_test_raw[i: i+1]\n",
        "        X_sample = scaler.transform(X_sample)\n",
        "        X_sample = torch.tensor(X_sample, dtype=torch.float32)\n",
        "        y_pred = model(X_sample.to(device))\n",
        "\n",
        "        # Move tensors to CPU before converting to NumPy\n",
        "        print(f\"{X_test_raw[i]} -> {y_pred[0].cpu().numpy()} (expected {y_test[i].cpu().numpy()})\")"
      ],
      "metadata": {
        "colab": {
          "base_uri": "https://localhost:8080/"
        },
        "id": "C9ZrDKOHwjLW",
        "outputId": "c0db0c73-0f55-449a-ff19-8ffc6277871a"
      },
      "execution_count": null,
      "outputs": [
        {
          "output_type": "stream",
          "name": "stdout",
          "text": [
            "[   2.2734       47.            6.00277778    1.22222222  966.\n",
            "    2.68333333   38.09       -122.22      ] -> [1.2692525] (expected [0.887])\n",
            "[   2.7273       44.            4.5625        1.02734375  509.\n",
            "    1.98828125   32.73       -117.23      ] -> [2.0393507] (expected [2.697])\n",
            "[ 3.5804e+00  4.5000e+01  4.9056e+00  1.0544e+00  1.2870e+03  2.0592e+00\n",
            "  3.4140e+01 -1.1810e+02] -> [2.5008674] (expected [3.244])\n",
            "[   6.7159       12.            7.28996283    1.04089219  985.\n",
            "    3.66171004   37.3        -121.74      ] -> [2.820726] (expected [3.627])\n",
            "[ 2.04320000e+00  1.80000000e+01  4.24350649e+00  1.01298701e+00\n",
            "  1.18100000e+03  1.91720779e+00  3.85900000e+01 -1.21400000e+02] -> [1.0253723] (expected [1.568])\n"
          ]
        }
      ]
    },
    {
      "cell_type": "markdown",
      "source": [
        "For the inference, you can choose not to use GPU"
      ],
      "metadata": {
        "id": "v6Lc-HCerZeo"
      }
    },
    {
      "cell_type": "code",
      "source": [
        "import torch\n",
        "from sklearn.preprocessing import StandardScaler\n",
        "\n",
        "# ... (Your existing code for data loading, preprocessing, and model definition) ...\n",
        "\n",
        "# Set device to CPU\n",
        "device = torch.device(\"cpu\")\n",
        "model.to(device)  # Move the model to the CPU\n",
        "\n",
        "model.eval()\n",
        "\n",
        "with torch.no_grad():\n",
        "    # Test out inference with 5 samples from the original test set\n",
        "    for i in range(5):\n",
        "        X_sample = X_test_raw[i: i+1]\n",
        "        X_sample = scaler.transform(X_sample)\n",
        "        X_sample = torch.tensor(X_sample, dtype=torch.float32)\n",
        "        y_pred = model(X_sample)  # No need to move X_sample to device, as it's already on CPU\n",
        "\n",
        "        # Move tensors to CPU before converting to NumPy (This should still be used as a good practice in case device is accidentally set to GPU elsewhere in your code.)\n",
        "        print(f\"{X_test_raw[i]} -> {y_pred[0].cpu().numpy()} (expected {y_test[i].cpu().numpy()})\")"
      ],
      "metadata": {
        "colab": {
          "base_uri": "https://localhost:8080/"
        },
        "id": "k4QcgXWM3y-2",
        "outputId": "5e33cd08-1087-416f-c127-804094cbccf6"
      },
      "execution_count": null,
      "outputs": [
        {
          "output_type": "stream",
          "name": "stdout",
          "text": [
            "[   2.2734       47.            6.00277778    1.22222222  966.\n",
            "    2.68333333   38.09       -122.22      ] -> [1.2692528] (expected [0.887])\n",
            "[   2.7273       44.            4.5625        1.02734375  509.\n",
            "    1.98828125   32.73       -117.23      ] -> [2.0393505] (expected [2.697])\n",
            "[ 3.5804e+00  4.5000e+01  4.9056e+00  1.0544e+00  1.2870e+03  2.0592e+00\n",
            "  3.4140e+01 -1.1810e+02] -> [2.5008674] (expected [3.244])\n",
            "[   6.7159       12.            7.28996283    1.04089219  985.\n",
            "    3.66171004   37.3        -121.74      ] -> [2.820726] (expected [3.627])\n",
            "[ 2.04320000e+00  1.80000000e+01  4.24350649e+00  1.01298701e+00\n",
            "  1.18100000e+03  1.91720779e+00  3.85900000e+01 -1.21400000e+02] -> [1.0253723] (expected [1.568])\n"
          ]
        }
      ]
    },
    {
      "cell_type": "code",
      "source": [],
      "metadata": {
        "id": "6y2V5dck3y8D"
      },
      "execution_count": null,
      "outputs": []
    },
    {
      "cell_type": "code",
      "source": [
        "X.astype(np.float32)"
      ],
      "metadata": {
        "id": "zWpIgm9tqZaf",
        "colab": {
          "base_uri": "https://localhost:8080/"
        },
        "outputId": "e9168054-a11c-489c-91fa-4b09ddbaedec"
      },
      "execution_count": null,
      "outputs": [
        {
          "output_type": "execute_result",
          "data": {
            "text/plain": [
              "array([[   8.3252   ,   41.       ,    6.984127 , ...,    2.5555556,\n",
              "          37.88     , -122.23     ],\n",
              "       [   8.3014   ,   21.       ,    6.2381372, ...,    2.1098418,\n",
              "          37.86     , -122.22     ],\n",
              "       [   7.2574   ,   52.       ,    8.288136 , ...,    2.80226  ,\n",
              "          37.85     , -122.24     ],\n",
              "       ...,\n",
              "       [   1.7      ,   17.       ,    5.2055426, ...,    2.3256352,\n",
              "          39.43     , -121.22     ],\n",
              "       [   1.8672   ,   18.       ,    5.329513 , ...,    2.1232092,\n",
              "          39.43     , -121.32     ],\n",
              "       [   2.3886   ,   16.       ,    5.254717 , ...,    2.616981 ,\n",
              "          39.37     , -121.24     ]], dtype=float32)"
            ]
          },
          "metadata": {},
          "execution_count": 24
        }
      ]
    },
    {
      "cell_type": "code",
      "source": [],
      "metadata": {
        "id": "ZXTdxlJYqH5L"
      },
      "execution_count": null,
      "outputs": []
    },
    {
      "cell_type": "code",
      "source": [
        "class DataMaker(Data.Dataset):\n",
        "    def __init__(self, X, y):\n",
        "        # scaler = MinMaxScaler()\n",
        "        scaler = StandardScaler()\n",
        "        self.targets = scaler.fit_transform(X.astype(np.float32))\n",
        "        # self.targets = scaler.fit_transform(X.cpu().numpy().astype(np.float32))\n",
        "        self.labels = y.astype(np.float32)\n",
        "        self.X = X # Store X for indexing\n",
        "\n",
        "    # def __getitem__(self, i):\n",
        "    #     return self.targets[i, :], self.labels[i]\n",
        "\n",
        "    def __getitem__(self, i):\n",
        "      return self.targets[i, :], self.labels[i]  # Use i instead of index\n",
        "\n",
        "    def __len__(self):\n",
        "        return len(self.targets)\n"
      ],
      "metadata": {
        "id": "aZxTSWPHqH2L"
      },
      "execution_count": null,
      "outputs": []
    },
    {
      "cell_type": "code",
      "source": [],
      "metadata": {
        "id": "u0Tr_HkBqHzy"
      },
      "execution_count": null,
      "outputs": []
    },
    {
      "cell_type": "code",
      "source": [
        "class Model(nn.Module):\n",
        "    def __init__(self, n_features, hiddenA, hiddenB):\n",
        "        super(Model, self).__init__()\n",
        "        self.linearA = nn.Linear(n_features, hiddenA)\n",
        "        self.linearB = nn.Linear(hiddenA, hiddenB)\n",
        "        self.linearC = nn.Linear(hiddenB, 1)\n",
        "\n",
        "    def forward(self, x):\n",
        "        yA = F.relu(self.linearA(x))\n",
        "        yB = F.relu(self.linearB(yA))\n",
        "        return self.linearC(yB)\n"
      ],
      "metadata": {
        "id": "hIlvXNDpqHw1"
      },
      "execution_count": null,
      "outputs": []
    },
    {
      "cell_type": "code",
      "source": [
        "torch.manual_seed(1)"
      ],
      "metadata": {
        "colab": {
          "base_uri": "https://localhost:8080/"
        },
        "id": "lNmLbOjtqHt-",
        "outputId": "c3676b14-1162-4cea-849c-908b68e0be09"
      },
      "execution_count": null,
      "outputs": [
        {
          "output_type": "execute_result",
          "data": {
            "text/plain": [
              "<torch._C.Generator at 0x7dabfe10a3b0>"
            ]
          },
          "metadata": {},
          "execution_count": 28
        }
      ]
    },
    {
      "cell_type": "code",
      "source": [],
      "metadata": {
        "id": "dp9z5bPmtgXR"
      },
      "execution_count": null,
      "outputs": []
    },
    {
      "cell_type": "code",
      "source": [
        "X_train, X_test, y_train, y_test = train_test_split(X, y, train_size=0.7, shuffle=True)\n",
        "\n",
        "train_set = DataMaker(X_train, y_train)\n",
        "test_set = DataMaker(X_test, y_test)\n"
      ],
      "metadata": {
        "id": "6cIDpnOjqHrQ"
      },
      "execution_count": null,
      "outputs": []
    },
    {
      "cell_type": "code",
      "source": [
        "bs = 25 #batch size\n",
        "train_loader = Data.DataLoader(train_set, batch_size=bs, shuffle=True)\n",
        "test_loader = Data.DataLoader(test_set, batch_size=bs, shuffle=True)\n"
      ],
      "metadata": {
        "id": "ZEaCVHzEqHoK"
      },
      "execution_count": null,
      "outputs": []
    },
    {
      "cell_type": "code",
      "source": [
        "n_features = 8\n",
        "net = Model(n_features, 100, 50)\n"
      ],
      "metadata": {
        "id": "xXZburH6rBFT"
      },
      "execution_count": null,
      "outputs": []
    },
    {
      "cell_type": "code",
      "source": [],
      "metadata": {
        "id": "eDBaHWyBrBCL"
      },
      "execution_count": null,
      "outputs": []
    },
    {
      "cell_type": "code",
      "source": [
        "criterion = nn.MSELoss(size_average=False)\n",
        "optimizer = optim.Adam(net.parameters(), lr=0.01)\n"
      ],
      "metadata": {
        "colab": {
          "base_uri": "https://localhost:8080/"
        },
        "id": "pcuYNXvkrA_K",
        "outputId": "e32c3ea1-5452-4e00-93d2-2382100df8b3"
      },
      "execution_count": null,
      "outputs": [
        {
          "output_type": "stream",
          "name": "stderr",
          "text": [
            "/usr/local/lib/python3.11/dist-packages/torch/nn/_reduction.py:51: UserWarning: size_average and reduce args will be deprecated, please use reduction='sum' instead.\n",
            "  warnings.warn(warning.format(ret))\n"
          ]
        }
      ]
    },
    {
      "cell_type": "markdown",
      "source": [
        "#### Start training"
      ],
      "metadata": {
        "id": "TE915KlnrROq"
      }
    },
    {
      "cell_type": "code",
      "source": [
        "from tqdm import tqdm # Change the import statement\n",
        "\n",
        "n_epochs = 200\n",
        "all_losses = []\n",
        "for epoch in range(n_epochs):\n",
        "    progress_bar = tqdm(train_loader, leave=False)\n",
        "    losses = []\n",
        "    total = 0\n",
        "    for inputs, target in progress_bar:\n",
        "        optimizer.zero_grad()\n",
        "        y_pred = net(inputs)\n",
        "        loss = criterion(y_pred, torch.unsqueeze(target,dim=1))\n",
        "\n",
        "        loss.backward()\n",
        "\n",
        "        optimizer.step()\n",
        "\n",
        "        progress_bar.set_description(f'Loss: {loss.item():.3f}')\n",
        "\n",
        "        losses.append(loss.item())\n",
        "        total += 1\n",
        "\n",
        "    epoch_loss = sum(losses) / total\n",
        "    all_losses.append(epoch_loss)\n",
        "\n",
        "    mess = f\"Epoch #{epoch+1}\\tLoss: {all_losses[-1]:.3f}\"\n",
        "    # tqdm.tqdm.write(mess)"
      ],
      "metadata": {
        "colab": {
          "base_uri": "https://localhost:8080/"
        },
        "id": "Tic_h320rP2a",
        "outputId": "15a2375e-5d00-4a41-b9f0-96d56213b77e"
      },
      "execution_count": null,
      "outputs": [
        {
          "output_type": "stream",
          "name": "stderr",
          "text": []
        }
      ]
    },
    {
      "cell_type": "code",
      "source": [],
      "metadata": {
        "id": "LqSN_clivu9V"
      },
      "execution_count": null,
      "outputs": []
    },
    {
      "cell_type": "code",
      "source": [],
      "metadata": {
        "id": "XRXt-2dHvu6K"
      },
      "execution_count": null,
      "outputs": []
    },
    {
      "cell_type": "code",
      "source": [],
      "metadata": {
        "id": "oPLu3Tayvu3c"
      },
      "execution_count": null,
      "outputs": []
    },
    {
      "cell_type": "markdown",
      "metadata": {
        "id": "NYk0TXtZ0G4Y"
      },
      "source": [
        "# References\n",
        "- Helber, P., Bischke, B., Dengel, A., & Borth, D. (2019). Eurosat: A novel dataset and deep learning benchmark for land use and land cover classification. IEEE Journal of Selected Topics in Applied Earth Observations and Remote Sensing, 12(7), 2217-2226.\n",
        "- Wang, Y., Braham, N. A. A., Xiong, Z., Liu, C., Albrecht, C. M., & Zhu, X. X. (2023). SSL4EO-S12: A large-scale multimodal, multitemporal dataset for self-supervised learning in Earth observation [Software and Data Sets]. IEEE Geoscience and Remote Sensing Magazine, 11(3), 98-106."
      ]
    }
  ],
  "metadata": {
    "accelerator": "GPU",
    "colab": {
      "provenance": [],
      "include_colab_link": true
    },
    "gpuClass": "standard",
    "kernelspec": {
      "display_name": "Python 3",
      "name": "python3"
    }
  },
  "nbformat": 4,
  "nbformat_minor": 0
}